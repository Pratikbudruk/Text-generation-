{
 "cells": [
  {
   "cell_type": "code",
   "execution_count": 1,
   "metadata": {},
   "outputs": [
    {
     "name": "stderr",
     "output_type": "stream",
     "text": [
      "Using TensorFlow backend.\n"
     ]
    }
   ],
   "source": [
    "import sys \n",
    "import numpy as np\n",
    "from keras.models import Sequential\n",
    "from keras.layers import Dense,Dropout,LSTM\n",
    "from keras.callbacks import ModelCheckpoint\n",
    "from keras.utils import np_utils"
   ]
  },
  {
   "cell_type": "code",
   "execution_count": 2,
   "metadata": {},
   "outputs": [],
   "source": [
    "file_name='data.txt'\n",
    "raw_txt=open(file_name,'r',encoding='utf-8').read()\n",
    "raw_txt=raw_txt.lower()"
   ]
  },
  {
   "cell_type": "code",
   "execution_count": 4,
   "metadata": {},
   "outputs": [],
   "source": [
    "chars=sorted(list(set(raw_txt)))\n",
    "chars_to_int=dict((c,i) for i,c in enumerate(chars))\n",
    "int_to_chars=dict((i,c) for i,c in enumerate(chars))"
   ]
  },
  {
   "cell_type": "code",
   "execution_count": 5,
   "metadata": {},
   "outputs": [
    {
     "name": "stdout",
     "output_type": "stream",
     "text": [
      "Total characters : 163817\n",
      "Total Vocab : 61\n"
     ]
    }
   ],
   "source": [
    "n_chars=len(raw_txt)\n",
    "n_vocab=len(chars)\n",
    "\n",
    "print('Total characters : {}'.format(n_chars))\n",
    "print('Total Vocab : {}'.format(n_vocab))"
   ]
  },
  {
   "cell_type": "code",
   "execution_count": 7,
   "metadata": {},
   "outputs": [
    {
     "name": "stdout",
     "output_type": "stream",
     "text": [
      "Total Patterns : 163717\n"
     ]
    }
   ],
   "source": [
    "seq_length=100\n",
    "dataX=[]\n",
    "dataY=[]\n",
    "for i in range(0,n_chars-seq_length,1):\n",
    "    seq_in=raw_txt[i:i+seq_length]\n",
    "    seq_out=raw_txt[i+seq_length]\n",
    "    dataX.append([chars_to_int[char] for char in seq_in])\n",
    "    dataY.append(chars_to_int[seq_out])\n",
    "n_pattern=len(dataX)\n",
    "print('Total Patterns : {}'.format(n_pattern))"
   ]
  },
  {
   "cell_type": "code",
   "execution_count": 14,
   "metadata": {},
   "outputs": [],
   "source": [
    "X = np.reshape(dataX, (n_pattern, seq_length, 1))\n",
    "X = X / float(n_vocab)\n",
    "y = np_utils.to_categorical(dataY)"
   ]
  },
  {
   "cell_type": "code",
   "execution_count": 18,
   "metadata": {},
   "outputs": [
    {
     "name": "stdout",
     "output_type": "stream",
     "text": [
      "shape of X : (163717, 100, 1)\n",
      "shape of y : (163717, 60)\n"
     ]
    }
   ],
   "source": [
    "print('shape of X : {}'.format(X.shape))\n",
    "print('shape of y : {}'.format(y.shape))"
   ]
  },
  {
   "cell_type": "code",
   "execution_count": 19,
   "metadata": {},
   "outputs": [
    {
     "name": "stdout",
     "output_type": "stream",
     "text": [
      "WARNING:tensorflow:From G:\\Anaconda\\envs\\tensorflow\\lib\\site-packages\\tensorflow\\python\\framework\\op_def_library.py:263: colocate_with (from tensorflow.python.framework.ops) is deprecated and will be removed in a future version.\n",
      "Instructions for updating:\n",
      "Colocations handled automatically by placer.\n",
      "WARNING:tensorflow:From G:\\Anaconda\\envs\\tensorflow\\lib\\site-packages\\keras\\backend\\tensorflow_backend.py:3445: calling dropout (from tensorflow.python.ops.nn_ops) with keep_prob is deprecated and will be removed in a future version.\n",
      "Instructions for updating:\n",
      "Please use `rate` instead of `keep_prob`. Rate should be set to `rate = 1 - keep_prob`.\n",
      "_________________________________________________________________\n",
      "Layer (type)                 Output Shape              Param #   \n",
      "=================================================================\n",
      "lstm_1 (LSTM)                (None, 256)               264192    \n",
      "_________________________________________________________________\n",
      "dropout_1 (Dropout)          (None, 256)               0         \n",
      "_________________________________________________________________\n",
      "dense_1 (Dense)              (None, 60)                15420     \n",
      "=================================================================\n",
      "Total params: 279,612\n",
      "Trainable params: 279,612\n",
      "Non-trainable params: 0\n",
      "_________________________________________________________________\n",
      "None\n"
     ]
    }
   ],
   "source": [
    "model=Sequential()\n",
    "model.add(LSTM(256,input_shape=(X.shape[1],X.shape[2])))\n",
    "model.add(Dropout(0.2))\n",
    "model.add(Dense(y.shape[1],activation='softmax'))\n",
    "model.compile(loss='categorical_crossentropy', optimizer='adam')\n",
    "print(model.summary())"
   ]
  },
  {
   "cell_type": "code",
   "execution_count": 20,
   "metadata": {},
   "outputs": [],
   "source": [
    "filepath=\"weights-improvement-{epoch:02d}-{loss:.4f}.hdf5\"\n",
    "checkpoint = ModelCheckpoint(filepath, monitor='loss', verbose=1, save_best_only=True, mode='min')\n",
    "callbacks_list = [checkpoint]"
   ]
  },
  {
   "cell_type": "code",
   "execution_count": 21,
   "metadata": {},
   "outputs": [
    {
     "name": "stdout",
     "output_type": "stream",
     "text": [
      "WARNING:tensorflow:From G:\\Anaconda\\envs\\tensorflow\\lib\\site-packages\\tensorflow\\python\\ops\\math_ops.py:3066: to_int32 (from tensorflow.python.ops.math_ops) is deprecated and will be removed in a future version.\n",
      "Instructions for updating:\n",
      "Use tf.cast instead.\n",
      "Epoch 1/20\n",
      "163717/163717 [==============================] - 927s 6ms/step - loss: 3.0083\n",
      "\n",
      "Epoch 00001: loss improved from inf to 3.00834, saving model to weights-improvement-01-3.0083.hdf5\n",
      "Epoch 2/20\n",
      "163717/163717 [==============================] - 937s 6ms/step - loss: 2.8268\n",
      "\n",
      "Epoch 00002: loss improved from 3.00834 to 2.82683, saving model to weights-improvement-02-2.8268.hdf5\n",
      "Epoch 3/20\n",
      "163717/163717 [==============================] - 926s 6ms/step - loss: 2.7321\n",
      "\n",
      "Epoch 00003: loss improved from 2.82683 to 2.73214, saving model to weights-improvement-03-2.7321.hdf5\n",
      "Epoch 4/20\n",
      "163717/163717 [==============================] - 912s 6ms/step - loss: 2.6695\n",
      "\n",
      "Epoch 00004: loss improved from 2.73214 to 2.66948, saving model to weights-improvement-04-2.6695.hdf5\n",
      "Epoch 5/20\n",
      "163717/163717 [==============================] - 906s 6ms/step - loss: 2.6069\n",
      "\n",
      "Epoch 00005: loss improved from 2.66948 to 2.60691, saving model to weights-improvement-05-2.6069.hdf5\n",
      "Epoch 6/20\n",
      "163717/163717 [==============================] - 906s 6ms/step - loss: 2.5448\n",
      "\n",
      "Epoch 00006: loss improved from 2.60691 to 2.54483, saving model to weights-improvement-06-2.5448.hdf5\n",
      "Epoch 7/20\n",
      "163717/163717 [==============================] - 910s 6ms/step - loss: 2.4903\n",
      "\n",
      "Epoch 00007: loss improved from 2.54483 to 2.49033, saving model to weights-improvement-07-2.4903.hdf5\n",
      "Epoch 8/20\n",
      "163717/163717 [==============================] - 909s 6ms/step - loss: 2.4401\n",
      "\n",
      "Epoch 00008: loss improved from 2.49033 to 2.44013, saving model to weights-improvement-08-2.4401.hdf5\n",
      "Epoch 9/20\n",
      "163717/163717 [==============================] - 909s 6ms/step - loss: 2.3927\n",
      "\n",
      "Epoch 00009: loss improved from 2.44013 to 2.39272, saving model to weights-improvement-09-2.3927.hdf5\n",
      "Epoch 10/20\n",
      "163717/163717 [==============================] - 910s 6ms/step - loss: 2.3512\n",
      "\n",
      "Epoch 00010: loss improved from 2.39272 to 2.35121, saving model to weights-improvement-10-2.3512.hdf5\n",
      "Epoch 11/20\n",
      "163717/163717 [==============================] - 919s 6ms/step - loss: 2.3115\n",
      "\n",
      "Epoch 00011: loss improved from 2.35121 to 2.31154, saving model to weights-improvement-11-2.3115.hdf5\n",
      "Epoch 12/20\n",
      "163717/163717 [==============================] - 978s 6ms/step - loss: 2.2731\n",
      "\n",
      "Epoch 00012: loss improved from 2.31154 to 2.27314, saving model to weights-improvement-12-2.2731.hdf5\n",
      "Epoch 13/20\n",
      "163717/163717 [==============================] - 917s 6ms/step - loss: 2.2370\n",
      "\n",
      "Epoch 00013: loss improved from 2.27314 to 2.23703, saving model to weights-improvement-13-2.2370.hdf5\n",
      "Epoch 14/20\n",
      "163717/163717 [==============================] - 914s 6ms/step - loss: 2.2034\n",
      "\n",
      "Epoch 00014: loss improved from 2.23703 to 2.20336, saving model to weights-improvement-14-2.2034.hdf5\n",
      "Epoch 15/20\n",
      "163717/163717 [==============================] - 921s 6ms/step - loss: 2.1713\n",
      "\n",
      "Epoch 00015: loss improved from 2.20336 to 2.17128, saving model to weights-improvement-15-2.1713.hdf5\n",
      "Epoch 16/20\n",
      "163717/163717 [==============================] - 921s 6ms/step - loss: 2.1426\n",
      "\n",
      "Epoch 00016: loss improved from 2.17128 to 2.14261, saving model to weights-improvement-16-2.1426.hdf5\n",
      "Epoch 17/20\n",
      "163717/163717 [==============================] - 918s 6ms/step - loss: 2.1144\n",
      "\n",
      "Epoch 00017: loss improved from 2.14261 to 2.11440, saving model to weights-improvement-17-2.1144.hdf5\n",
      "Epoch 18/20\n",
      "163717/163717 [==============================] - 912s 6ms/step - loss: 2.0911\n",
      "\n",
      "Epoch 00018: loss improved from 2.11440 to 2.09106, saving model to weights-improvement-18-2.0911.hdf5\n",
      "Epoch 19/20\n",
      "163717/163717 [==============================] - 920s 6ms/step - loss: 2.0612\n",
      "\n",
      "Epoch 00019: loss improved from 2.09106 to 2.06118, saving model to weights-improvement-19-2.0612.hdf5\n",
      "Epoch 20/20\n",
      "163717/163717 [==============================] - 920s 6ms/step - loss: 2.0397\n",
      "\n",
      "Epoch 00020: loss improved from 2.06118 to 2.03969, saving model to weights-improvement-20-2.0397.hdf5\n"
     ]
    },
    {
     "data": {
      "text/plain": [
       "<keras.callbacks.History at 0x247e9e542e8>"
      ]
     },
     "execution_count": 21,
     "metadata": {},
     "output_type": "execute_result"
    }
   ],
   "source": [
    "model.fit(X, y, epochs=20, batch_size=128, callbacks=callbacks_list)"
   ]
  },
  {
   "cell_type": "code",
   "execution_count": 22,
   "metadata": {},
   "outputs": [],
   "source": [
    "filename = \"weights-improvement-20-2.0397.hdf5\"\n",
    "model.load_weights(filename)\n",
    "model.compile(loss='categorical_crossentropy', optimizer='adam')"
   ]
  },
  {
   "cell_type": "code",
   "execution_count": 31,
   "metadata": {},
   "outputs": [
    {
     "name": "stdout",
     "output_type": "stream",
     "text": [
      "Seed :\n",
      "\" under this paragraph to the\n",
      "     project gutenberg literary archive foundation.  royalty payments\n",
      "   \"\n"
     ]
    }
   ],
   "source": [
    "start=np.random.randint(0,len(dataX)-1)\n",
    "pattern=dataX[start]\n",
    "print('Seed :')\n",
    "print(\"\\\"\", ''.join([int_to_chars[value] for value in pattern]), \"\\\"\")"
   ]
  },
  {
   "cell_type": "code",
   "execution_count": 32,
   "metadata": {},
   "outputs": [
    {
     "name": "stdout",
     "output_type": "stream",
     "text": [
      "   eedertonc to dnd the perseo of the project gutenberg-tm electronic works on protede the parsen of the project gutenberg-tm electronic works on poo cno cisiri the parss of this agreement to the project gutenberg-tm electronic works on poo cno cisiri th the porject gutenberg-tm electronic works on poo in any piree trohect gutenberg-tm electronic works on poo cno cisiri th the prrject gutenberg-tm electronic works on poo in any pir crolai in the porject gutenberg-tm electronic works on poo in any pir crola ti the porject gutenberg-tm electronic works on poo in aly pir crol an the work on the project gutenberg-tm electronic works on poo in aly pir crol an the work on the project gutenberg-tm electronic works on poo in aly pir crol an the work on the project gutenberg-tm electronic works on poo in aly pir crol an the work on the project gutenberg-tm electronic works on poo in aly pir crol an the work on the project gutenberg-tm electronic works on poo in aly pir crol an the work on the p\n",
      "Done.\n"
     ]
    }
   ],
   "source": [
    "for i in range(1000):\n",
    "    x = np.reshape(pattern, (1, len(pattern), 1))\n",
    "    x = x / float(n_vocab)\n",
    "    prediction = model.predict(x, verbose=0)\n",
    "    index = np.argmax(prediction)\n",
    "    result = int_to_chars[index]\n",
    "    seq_in = [int_to_chars[value] for value in pattern]\n",
    "    sys.stdout.write(result)\n",
    "    pattern.append(index)\n",
    "    pattern = pattern[1:len(pattern)]\n",
    "print(\"\\nDone.\")"
   ]
  },
  {
   "cell_type": "code",
   "execution_count": null,
   "metadata": {},
   "outputs": [],
   "source": []
  },
  {
   "cell_type": "code",
   "execution_count": null,
   "metadata": {},
   "outputs": [],
   "source": []
  }
 ],
 "metadata": {
  "kernelspec": {
   "display_name": "Python 3",
   "language": "python",
   "name": "python3"
  },
  "language_info": {
   "codemirror_mode": {
    "name": "ipython",
    "version": 3
   },
   "file_extension": ".py",
   "mimetype": "text/x-python",
   "name": "python",
   "nbconvert_exporter": "python",
   "pygments_lexer": "ipython3",
   "version": "3.7.3"
  }
 },
 "nbformat": 4,
 "nbformat_minor": 2
}
